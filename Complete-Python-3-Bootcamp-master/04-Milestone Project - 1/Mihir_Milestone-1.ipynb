{
 "cells": [
  {
   "cell_type": "code",
   "execution_count": 25,
   "metadata": {},
   "outputs": [],
   "source": [
    "def display_board(board):\n",
    "    print(board[1]+ '|' + board[2] + '|' + board[3] + '|')\n",
    "    print('------')\n",
    "    print(board[4]+ '|' + board[5] + '|' + board[6] + '|')\n",
    "    print('------')\n",
    "    print(board[7]+ '|' + board[8] + '|' + board[9] + '|')"
   ]
  },
  {
   "cell_type": "code",
   "execution_count": 32,
   "metadata": {},
   "outputs": [
    {
     "name": "stdout",
     "output_type": "stream",
     "text": [
      "X|X|O|\n",
      "------\n",
      "X|O|X|\n",
      "------\n",
      "X|O|X|\n"
     ]
    }
   ],
   "source": [
    "testboard=['#','X','X','O','X','O','X','X','O','X']\n",
    "display_board(testboard)"
   ]
  },
  {
   "cell_type": "code",
   "execution_count": 34,
   "metadata": {},
   "outputs": [],
   "source": [
    "def player_input():\n",
    "    response=''\n",
    "    player={'fp1':'','fp2':''}\n",
    "    while (response!='X' and response!='O'):\n",
    "        response=input('Enter first player X or O')\n",
    "    if response == 'X':\n",
    "        player['fp1']='X'\n",
    "        player['fp2']='O'\n",
    "    elif response =='O':\n",
    "        player['fp1']='O'\n",
    "        player['fp2']='X'\n",
    "    print(f\"First player is: {player['fp1']}\")\n",
    "    print(f\"Second player is: {player['fp2']}\")\n",
    "    return player"
   ]
  },
  {
   "cell_type": "code",
   "execution_count": 28,
   "metadata": {},
   "outputs": [
    {
     "name": "stdout",
     "output_type": "stream",
     "text": [
      "Enter first player X or OX\n",
      "First player is: X\n",
      "Second player is: O\n"
     ]
    },
    {
     "data": {
      "text/plain": [
       "{'fp1': 'X', 'fp2': 'O'}"
      ]
     },
     "execution_count": 28,
     "metadata": {},
     "output_type": "execute_result"
    }
   ],
   "source": [
    "player_input()"
   ]
  },
  {
   "cell_type": "code",
   "execution_count": 29,
   "metadata": {},
   "outputs": [],
   "source": [
    "def place_marker(board, marker, position):\n",
    "    board[position] = marker\n",
    "    return board"
   ]
  },
  {
   "cell_type": "code",
   "execution_count": 51,
   "metadata": {},
   "outputs": [
    {
     "name": "stdout",
     "output_type": "stream",
     "text": [
      "X|O|O|\n",
      "------\n",
      "X|O|X|\n",
      "------\n",
      "X|O|X|\n"
     ]
    }
   ],
   "source": [
    "place_marker(testboard,'X',1)\n",
    "display_board(testboard)"
   ]
  },
  {
   "cell_type": "code",
   "execution_count": 48,
   "metadata": {},
   "outputs": [],
   "source": [
    " def win_check(board, mark):\n",
    "\n",
    "    win_ind='False'\n",
    "    dict_board={'r1':[1,2,3],'r2':[4,5,6],'r3':[7,8,9],'c1':[1,4,7],'c2':[2,5,8],'c3':[3,6,9],'d1':[1,5,9],'d2':[3,5,7]}\n",
    "\n",
    "    def act_check(dim,mark):\n",
    "        if(board[dim[0]]==mark and board[dim[1]]==mark and board[dim[2]]==mark ):\n",
    "            return True\n",
    "        else:\n",
    "            return False\n",
    "\n",
    "    for i in dict_board.keys():\n",
    "        dim=dict_board[i]\n",
    "        win_ind = act_check(dim,mark)\n",
    "        if(win_ind):\n",
    "            return True\n",
    "    return(win_ind)"
   ]
  },
  {
   "cell_type": "code",
   "execution_count": 49,
   "metadata": {},
   "outputs": [
    {
     "data": {
      "text/plain": [
       "False"
      ]
     },
     "execution_count": 49,
     "metadata": {},
     "output_type": "execute_result"
    }
   ],
   "source": [
    "win_check(testboard,'O')"
   ]
  }
 ],
 "metadata": {
  "kernelspec": {
   "display_name": "Python 3",
   "language": "python",
   "name": "python3"
  },
  "language_info": {
   "codemirror_mode": {
    "name": "ipython",
    "version": 3
   },
   "file_extension": ".py",
   "mimetype": "text/x-python",
   "name": "python",
   "nbconvert_exporter": "python",
   "pygments_lexer": "ipython3",
   "version": "3.8.5"
  }
 },
 "nbformat": 4,
 "nbformat_minor": 4
}
